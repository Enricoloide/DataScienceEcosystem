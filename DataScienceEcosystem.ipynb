{
 "cells": [
  {
   "cell_type": "markdown",
   "id": "43a5087e-7ffc-4617-b234-c0b986ab81d9",
   "metadata": {},
   "source": [
    "# Data Science Tools and Ecosystem"
   ]
  },
  {
   "cell_type": "markdown",
   "id": "12ff9600-dc03-4617-947d-c467bc98d700",
   "metadata": {},
   "source": [
    "In this notebook, Data Science Tools and Ecosystem are summarized."
   ]
  },
  {
   "cell_type": "markdown",
   "id": "fa4ff75e-c5b0-4db3-af36-d6009cd5e968",
   "metadata": {},
   "source": [
    "**Objectives:**\n",
    "•List popular languages for Data Science\n",
    "•List commonly used libraries in Data Science\n",
    "•Demonstrate arithmetic expressions in Python\n",
    "•Create tables using Markdown\n",
    "•Convert minutes to hours using division"
   ]
  },
  {
   "cell_type": "markdown",
   "id": "3e08e09a-152e-43be-a61f-1ef695472097",
   "metadata": {},
   "source": [
    "Some of the popular languages that Data Scientists use are:\n",
    "1. Python\n",
    "2. R\n",
    "3. SQL"
   ]
  },
  {
   "cell_type": "markdown",
   "id": "8cda26f1-ce6d-40c0-a564-95e96f30a1d9",
   "metadata": {},
   "source": [
    "Some of the commonly used libraries used by Data Scientists include:\n",
    "1. NumPy\n",
    "2. MatPlotLib\n",
    "3. Panda"
   ]
  },
  {
   "cell_type": "markdown",
   "id": "9d000075-5489-4f15-b61d-9fe05257e4df",
   "metadata": {},
   "source": [
    "| Data Science Tools |\n",
    "|:--------:|\n",
    "|  RStudio   |\n",
    "|  Spyder  |\n",
    "|  Google Colab   |"
   ]
  },
  {
   "cell_type": "markdown",
   "id": "c784ee4c-5a77-409f-87d3-e32cd721d341",
   "metadata": {},
   "source": [
    "### Below are a few examples of evaluating arithmetic expressions in Python."
   ]
  },
  {
   "cell_type": "code",
   "execution_count": 4,
   "id": "282f2bdd-df1d-4780-9928-49b65b919ffb",
   "metadata": {},
   "outputs": [
    {
     "data": {
      "text/plain": [
       "17"
      ]
     },
     "execution_count": 4,
     "metadata": {},
     "output_type": "execute_result"
    }
   ],
   "source": [
    "#This a simple arithmetic expression to mutiply then add integers\n",
    "\n",
    "(3 * 4) + 5"
   ]
  },
  {
   "cell_type": "code",
   "execution_count": 5,
   "id": "3e130d12-2817-4350-9634-695f91015a43",
   "metadata": {},
   "outputs": [
    {
     "data": {
      "text/plain": [
       "3.3333333333333335"
      ]
     },
     "execution_count": 5,
     "metadata": {},
     "output_type": "execute_result"
    }
   ],
   "source": [
    "# This will convert 200 minutes to hours by dividing by 60\n",
    "\n",
    "200 / 60"
   ]
  },
  {
   "cell_type": "markdown",
   "id": "fd0a5ef5-bd9a-40ef-804c-a7212556fd31",
   "metadata": {},
   "source": [
    "## Author\n",
    "Henry Lorenzo Morini"
   ]
  }
 ],
 "metadata": {
  "kernelspec": {
   "display_name": "Python [conda env:base] *",
   "language": "python",
   "name": "conda-base-py"
  },
  "language_info": {
   "codemirror_mode": {
    "name": "ipython",
    "version": 3
   },
   "file_extension": ".py",
   "mimetype": "text/x-python",
   "name": "python",
   "nbconvert_exporter": "python",
   "pygments_lexer": "ipython3",
   "version": "3.13.5"
  }
 },
 "nbformat": 4,
 "nbformat_minor": 5
}
